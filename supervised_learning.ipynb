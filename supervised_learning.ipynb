{
 "cells": [
  {
   "cell_type": "markdown",
   "metadata": {},
   "source": [
    "# Supervised Learning Model from Scratch | Debugging with K TiPs\n",
    "\n",
    "Model should estimate the relation:\n",
    "\n",
    "$\n",
    "y_{pred} = w_1 \\cdot x + w_2 \\cdot x^2 + \\text{bias}\n",
    "$\n",
    "\n",
    "This is a simple polynomial regression problem trained with gradient descent.\n",
    "\n",
    "## Import Libraries\n"
   ]
  },
  {
   "cell_type": "code",
   "execution_count": 1,
   "metadata": {},
   "outputs": [],
   "source": [
    "#! pip install plotly\n",
    "import numpy as np\n",
    "import plotly.graph_objects as go"
   ]
  },
  {
   "cell_type": "markdown",
   "metadata": {},
   "source": [
    "## Define the Data"
   ]
  },
  {
   "cell_type": "code",
   "execution_count": 2,
   "metadata": {},
   "outputs": [],
   "source": [
    "X = np.array([1, 2, 3, 4, 5, 6, 7, 8, 9, 10])   # Input values\n",
    "Y = np.array([1, 4, 9, 16, 25, 36, 49, 64, 81, 100])  # Output values (X squared)\n"
   ]
  },
  {
   "cell_type": "markdown",
   "metadata": {},
   "source": [
    "## Initialize the Model Parameters\n",
    "\n",
    "$\n",
    "y_{pred} = w_1 \\cdot x + w_2 \\cdot x^2 + \\text{bias}\n",
    "$"
   ]
  },
  {
   "cell_type": "code",
   "execution_count": 3,
   "metadata": {},
   "outputs": [],
   "source": [
    "w1 = np.random.randn()  # Initializing weight w1\n",
    "w2 = np.random.randn()  # Initializing weight w2 (for x^2)\n",
    "bias = np.random.randn()  # Initializing bias\n"
   ]
  },
  {
   "cell_type": "code",
   "execution_count": 4,
   "metadata": {},
   "outputs": [],
   "source": [
    "learning_rate = 0.0001  # Lowering the learning rate\n",
    "epochs = 100  # Number of iterations (epochs)\n"
   ]
  },
  {
   "cell_type": "markdown",
   "metadata": {},
   "source": [
    "## Define the Model\n",
    "\n",
    "$\n",
    "y_{pred} = w_1 \\cdot x + w_2 \\cdot x^2 + \\text{bias}\n",
    "$"
   ]
  },
  {
   "cell_type": "code",
   "execution_count": 5,
   "metadata": {},
   "outputs": [],
   "source": [
    "def model(x):\n",
    "    return w1 * x + w2 * (x ** 2) + bias\n"
   ]
  },
  {
   "cell_type": "markdown",
   "metadata": {},
   "source": [
    "## Define the Loss Function \n",
    "### Mean Squared Error (MSE)\n",
    "$\n",
    "\\text{Loss} = \\frac{1}{n} \\sum_{i=1}^{n} (y_{\\text{pred}_i} - y_{\\text{true}_i})^2\n",
    "$\n"
   ]
  },
  {
   "cell_type": "code",
   "execution_count": 6,
   "metadata": {},
   "outputs": [],
   "source": [
    "def mean_squared_error(y_true, y_pred):\n",
    "    return np.mean((y_pred - y_true) ** 2)\n"
   ]
  },
  {
   "cell_type": "markdown",
   "metadata": {},
   "source": [
    "## Train the Model (Gradient Descent)\n",
    "\n",
    "### Our polynomial regression model\n",
    "\n",
    "$\n",
    "y_{pred} = w_1 \\cdot x + w_2 \\cdot x^2 + \\text{bias}\n",
    "$\n",
    "\n",
    "### Mean Squared Error (MSE)\n",
    "$\n",
    "\\text{Loss} = \\frac{1}{n} \\sum_{i=1}^{n} (y_{\\text{pred}_i} - y_{\\text{true}_i})^2\n",
    "$\n",
    "\n",
    "### Gradients for Gradient Descent:\n",
    "Let $\n",
    "e_i = y_{\\text{pred}_i} - y_{\\text{true}_i}\n",
    "$.\n",
    "\n",
    "Then:\n",
    "\n",
    "Gradient w.r.t. $w_1$:\n",
    "\n",
    "$\n",
    "\\frac{\\partial \\text{Loss}}{\\partial w_1} = \\frac{2}{n} \\sum_{i=1}^{n} e_i \\cdot x_i\n",
    "$\n",
    "\n",
    "\n",
    "Gradient w.r.t. $w_2$:\n",
    "\n",
    "$\n",
    "\\frac{\\partial \\text{Loss}}{\\partial w_2} = \\frac{2}{n} \\sum_{i=1}^{n} e_i \\cdot x_i^2\n",
    "$\n",
    "\n",
    "\n",
    "Gradient w.r.t. bias :\n",
    "\n",
    "$\n",
    "\\frac{\\partial \\text{Loss}}{\\partial bias} = \\frac{2}{n} \\sum_{i=1}^{n} e_i\n",
    "$\n"
   ]
  },
  {
   "cell_type": "code",
   "execution_count": 7,
   "metadata": {},
   "outputs": [
    {
     "name": "stdout",
     "output_type": "stream",
     "text": [
      "Epoch 1/100, Loss: 411.9537\n",
      "Epoch 11/100, Loss: 0.1894\n",
      "Epoch 21/100, Loss: 0.1877\n",
      "Epoch 31/100, Loss: 0.1862\n",
      "Epoch 41/100, Loss: 0.1847\n",
      "Epoch 51/100, Loss: 0.1833\n",
      "Epoch 61/100, Loss: 0.1818\n",
      "Epoch 71/100, Loss: 0.1804\n",
      "Epoch 81/100, Loss: 0.1790\n",
      "Epoch 91/100, Loss: 0.1776\n"
     ]
    }
   ],
   "source": [
    "for epoch in range(epochs):\n",
    "    y_pred = model(X)  # Make predictions\n",
    "    loss = mean_squared_error(Y, y_pred)  # Calculate the loss\n",
    "\n",
    "    # Check if loss is NaN or infinite, and stop training if it is\n",
    "    if np.isnan(loss) or np.isinf(loss):\n",
    "        print(f\"Warning: Loss became NaN or Inf at epoch {epoch+1}. Stopping training.\")\n",
    "        break\n",
    "\n",
    "    # Compute gradients for w1, w2, and bias\n",
    "    dL_dw1 = np.mean(2 * (y_pred - Y) * X)\n",
    "    dL_dw2 = np.mean(2 * (y_pred - Y) * (X ** 2))\n",
    "    dL_dbias = np.mean(2 * (y_pred - Y))\n",
    "\n",
    "    # Update the weights and bias\n",
    "    w1 -= learning_rate * dL_dw1\n",
    "    w2 -= learning_rate * dL_dw2\n",
    "    bias -= learning_rate * dL_dbias\n",
    "\n",
    "    # Optionally print the loss every 100 epochs\n",
    "    if epoch % 10 == 0:\n",
    "        print(f\"Epoch {epoch+1}/{epochs}, Loss: {loss:.4f}\")\n"
   ]
  },
  {
   "cell_type": "markdown",
   "metadata": {},
   "source": [
    "## Visualize the Results Using Plotly"
   ]
  },
  {
   "cell_type": "code",
   "execution_count": 8,
   "metadata": {},
   "outputs": [
    {
     "data": {
      "application/vnd.plotly.v1+json": {
       "config": {
        "plotlyServerURL": "https://plot.ly"
       },
       "data": [
        {
         "marker": {
          "color": "blue"
         },
         "mode": "markers",
         "name": "True values (y =  x²)",
         "type": "scatter",
         "x": {
          "bdata": "AQIDBAUGBwgJCg==",
          "dtype": "i1"
         },
         "y": {
          "bdata": "AQQJEBkkMUBRZA==",
          "dtype": "i1"
         }
        },
        {
         "line": {
          "color": "red"
         },
         "mode": "lines",
         "name": "Predicted values",
         "type": "scatter",
         "x": {
          "bdata": "AQIDBAUGBwgJCg==",
          "dtype": "i1"
         },
         "y": {
          "bdata": "8kf1YOlq9D91aYXhzUAPQMrXybVXRyFARSFY5MnyLkBmGwYCRWk4QBmGOQWmuUFAgXG5Bb1LSEDuz4KC5+pPQLDQyr2SS1RA6fJ4eDsoWUA=",
          "dtype": "f8"
         }
        }
       ],
       "layout": {
        "template": {
         "data": {
          "bar": [
           {
            "error_x": {
             "color": "#2a3f5f"
            },
            "error_y": {
             "color": "#2a3f5f"
            },
            "marker": {
             "line": {
              "color": "#E5ECF6",
              "width": 0.5
             },
             "pattern": {
              "fillmode": "overlay",
              "size": 10,
              "solidity": 0.2
             }
            },
            "type": "bar"
           }
          ],
          "barpolar": [
           {
            "marker": {
             "line": {
              "color": "#E5ECF6",
              "width": 0.5
             },
             "pattern": {
              "fillmode": "overlay",
              "size": 10,
              "solidity": 0.2
             }
            },
            "type": "barpolar"
           }
          ],
          "carpet": [
           {
            "aaxis": {
             "endlinecolor": "#2a3f5f",
             "gridcolor": "white",
             "linecolor": "white",
             "minorgridcolor": "white",
             "startlinecolor": "#2a3f5f"
            },
            "baxis": {
             "endlinecolor": "#2a3f5f",
             "gridcolor": "white",
             "linecolor": "white",
             "minorgridcolor": "white",
             "startlinecolor": "#2a3f5f"
            },
            "type": "carpet"
           }
          ],
          "choropleth": [
           {
            "colorbar": {
             "outlinewidth": 0,
             "ticks": ""
            },
            "type": "choropleth"
           }
          ],
          "contour": [
           {
            "colorbar": {
             "outlinewidth": 0,
             "ticks": ""
            },
            "colorscale": [
             [
              0,
              "#0d0887"
             ],
             [
              0.1111111111111111,
              "#46039f"
             ],
             [
              0.2222222222222222,
              "#7201a8"
             ],
             [
              0.3333333333333333,
              "#9c179e"
             ],
             [
              0.4444444444444444,
              "#bd3786"
             ],
             [
              0.5555555555555556,
              "#d8576b"
             ],
             [
              0.6666666666666666,
              "#ed7953"
             ],
             [
              0.7777777777777778,
              "#fb9f3a"
             ],
             [
              0.8888888888888888,
              "#fdca26"
             ],
             [
              1,
              "#f0f921"
             ]
            ],
            "type": "contour"
           }
          ],
          "contourcarpet": [
           {
            "colorbar": {
             "outlinewidth": 0,
             "ticks": ""
            },
            "type": "contourcarpet"
           }
          ],
          "heatmap": [
           {
            "colorbar": {
             "outlinewidth": 0,
             "ticks": ""
            },
            "colorscale": [
             [
              0,
              "#0d0887"
             ],
             [
              0.1111111111111111,
              "#46039f"
             ],
             [
              0.2222222222222222,
              "#7201a8"
             ],
             [
              0.3333333333333333,
              "#9c179e"
             ],
             [
              0.4444444444444444,
              "#bd3786"
             ],
             [
              0.5555555555555556,
              "#d8576b"
             ],
             [
              0.6666666666666666,
              "#ed7953"
             ],
             [
              0.7777777777777778,
              "#fb9f3a"
             ],
             [
              0.8888888888888888,
              "#fdca26"
             ],
             [
              1,
              "#f0f921"
             ]
            ],
            "type": "heatmap"
           }
          ],
          "histogram": [
           {
            "marker": {
             "pattern": {
              "fillmode": "overlay",
              "size": 10,
              "solidity": 0.2
             }
            },
            "type": "histogram"
           }
          ],
          "histogram2d": [
           {
            "colorbar": {
             "outlinewidth": 0,
             "ticks": ""
            },
            "colorscale": [
             [
              0,
              "#0d0887"
             ],
             [
              0.1111111111111111,
              "#46039f"
             ],
             [
              0.2222222222222222,
              "#7201a8"
             ],
             [
              0.3333333333333333,
              "#9c179e"
             ],
             [
              0.4444444444444444,
              "#bd3786"
             ],
             [
              0.5555555555555556,
              "#d8576b"
             ],
             [
              0.6666666666666666,
              "#ed7953"
             ],
             [
              0.7777777777777778,
              "#fb9f3a"
             ],
             [
              0.8888888888888888,
              "#fdca26"
             ],
             [
              1,
              "#f0f921"
             ]
            ],
            "type": "histogram2d"
           }
          ],
          "histogram2dcontour": [
           {
            "colorbar": {
             "outlinewidth": 0,
             "ticks": ""
            },
            "colorscale": [
             [
              0,
              "#0d0887"
             ],
             [
              0.1111111111111111,
              "#46039f"
             ],
             [
              0.2222222222222222,
              "#7201a8"
             ],
             [
              0.3333333333333333,
              "#9c179e"
             ],
             [
              0.4444444444444444,
              "#bd3786"
             ],
             [
              0.5555555555555556,
              "#d8576b"
             ],
             [
              0.6666666666666666,
              "#ed7953"
             ],
             [
              0.7777777777777778,
              "#fb9f3a"
             ],
             [
              0.8888888888888888,
              "#fdca26"
             ],
             [
              1,
              "#f0f921"
             ]
            ],
            "type": "histogram2dcontour"
           }
          ],
          "mesh3d": [
           {
            "colorbar": {
             "outlinewidth": 0,
             "ticks": ""
            },
            "type": "mesh3d"
           }
          ],
          "parcoords": [
           {
            "line": {
             "colorbar": {
              "outlinewidth": 0,
              "ticks": ""
             }
            },
            "type": "parcoords"
           }
          ],
          "pie": [
           {
            "automargin": true,
            "type": "pie"
           }
          ],
          "scatter": [
           {
            "fillpattern": {
             "fillmode": "overlay",
             "size": 10,
             "solidity": 0.2
            },
            "type": "scatter"
           }
          ],
          "scatter3d": [
           {
            "line": {
             "colorbar": {
              "outlinewidth": 0,
              "ticks": ""
             }
            },
            "marker": {
             "colorbar": {
              "outlinewidth": 0,
              "ticks": ""
             }
            },
            "type": "scatter3d"
           }
          ],
          "scattercarpet": [
           {
            "marker": {
             "colorbar": {
              "outlinewidth": 0,
              "ticks": ""
             }
            },
            "type": "scattercarpet"
           }
          ],
          "scattergeo": [
           {
            "marker": {
             "colorbar": {
              "outlinewidth": 0,
              "ticks": ""
             }
            },
            "type": "scattergeo"
           }
          ],
          "scattergl": [
           {
            "marker": {
             "colorbar": {
              "outlinewidth": 0,
              "ticks": ""
             }
            },
            "type": "scattergl"
           }
          ],
          "scattermap": [
           {
            "marker": {
             "colorbar": {
              "outlinewidth": 0,
              "ticks": ""
             }
            },
            "type": "scattermap"
           }
          ],
          "scattermapbox": [
           {
            "marker": {
             "colorbar": {
              "outlinewidth": 0,
              "ticks": ""
             }
            },
            "type": "scattermapbox"
           }
          ],
          "scatterpolar": [
           {
            "marker": {
             "colorbar": {
              "outlinewidth": 0,
              "ticks": ""
             }
            },
            "type": "scatterpolar"
           }
          ],
          "scatterpolargl": [
           {
            "marker": {
             "colorbar": {
              "outlinewidth": 0,
              "ticks": ""
             }
            },
            "type": "scatterpolargl"
           }
          ],
          "scatterternary": [
           {
            "marker": {
             "colorbar": {
              "outlinewidth": 0,
              "ticks": ""
             }
            },
            "type": "scatterternary"
           }
          ],
          "surface": [
           {
            "colorbar": {
             "outlinewidth": 0,
             "ticks": ""
            },
            "colorscale": [
             [
              0,
              "#0d0887"
             ],
             [
              0.1111111111111111,
              "#46039f"
             ],
             [
              0.2222222222222222,
              "#7201a8"
             ],
             [
              0.3333333333333333,
              "#9c179e"
             ],
             [
              0.4444444444444444,
              "#bd3786"
             ],
             [
              0.5555555555555556,
              "#d8576b"
             ],
             [
              0.6666666666666666,
              "#ed7953"
             ],
             [
              0.7777777777777778,
              "#fb9f3a"
             ],
             [
              0.8888888888888888,
              "#fdca26"
             ],
             [
              1,
              "#f0f921"
             ]
            ],
            "type": "surface"
           }
          ],
          "table": [
           {
            "cells": {
             "fill": {
              "color": "#EBF0F8"
             },
             "line": {
              "color": "white"
             }
            },
            "header": {
             "fill": {
              "color": "#C8D4E3"
             },
             "line": {
              "color": "white"
             }
            },
            "type": "table"
           }
          ]
         },
         "layout": {
          "annotationdefaults": {
           "arrowcolor": "#2a3f5f",
           "arrowhead": 0,
           "arrowwidth": 1
          },
          "autotypenumbers": "strict",
          "coloraxis": {
           "colorbar": {
            "outlinewidth": 0,
            "ticks": ""
           }
          },
          "colorscale": {
           "diverging": [
            [
             0,
             "#8e0152"
            ],
            [
             0.1,
             "#c51b7d"
            ],
            [
             0.2,
             "#de77ae"
            ],
            [
             0.3,
             "#f1b6da"
            ],
            [
             0.4,
             "#fde0ef"
            ],
            [
             0.5,
             "#f7f7f7"
            ],
            [
             0.6,
             "#e6f5d0"
            ],
            [
             0.7,
             "#b8e186"
            ],
            [
             0.8,
             "#7fbc41"
            ],
            [
             0.9,
             "#4d9221"
            ],
            [
             1,
             "#276419"
            ]
           ],
           "sequential": [
            [
             0,
             "#0d0887"
            ],
            [
             0.1111111111111111,
             "#46039f"
            ],
            [
             0.2222222222222222,
             "#7201a8"
            ],
            [
             0.3333333333333333,
             "#9c179e"
            ],
            [
             0.4444444444444444,
             "#bd3786"
            ],
            [
             0.5555555555555556,
             "#d8576b"
            ],
            [
             0.6666666666666666,
             "#ed7953"
            ],
            [
             0.7777777777777778,
             "#fb9f3a"
            ],
            [
             0.8888888888888888,
             "#fdca26"
            ],
            [
             1,
             "#f0f921"
            ]
           ],
           "sequentialminus": [
            [
             0,
             "#0d0887"
            ],
            [
             0.1111111111111111,
             "#46039f"
            ],
            [
             0.2222222222222222,
             "#7201a8"
            ],
            [
             0.3333333333333333,
             "#9c179e"
            ],
            [
             0.4444444444444444,
             "#bd3786"
            ],
            [
             0.5555555555555556,
             "#d8576b"
            ],
            [
             0.6666666666666666,
             "#ed7953"
            ],
            [
             0.7777777777777778,
             "#fb9f3a"
            ],
            [
             0.8888888888888888,
             "#fdca26"
            ],
            [
             1,
             "#f0f921"
            ]
           ]
          },
          "colorway": [
           "#636efa",
           "#EF553B",
           "#00cc96",
           "#ab63fa",
           "#FFA15A",
           "#19d3f3",
           "#FF6692",
           "#B6E880",
           "#FF97FF",
           "#FECB52"
          ],
          "font": {
           "color": "#2a3f5f"
          },
          "geo": {
           "bgcolor": "white",
           "lakecolor": "white",
           "landcolor": "#E5ECF6",
           "showlakes": true,
           "showland": true,
           "subunitcolor": "white"
          },
          "hoverlabel": {
           "align": "left"
          },
          "hovermode": "closest",
          "mapbox": {
           "style": "light"
          },
          "paper_bgcolor": "white",
          "plot_bgcolor": "#E5ECF6",
          "polar": {
           "angularaxis": {
            "gridcolor": "white",
            "linecolor": "white",
            "ticks": ""
           },
           "bgcolor": "#E5ECF6",
           "radialaxis": {
            "gridcolor": "white",
            "linecolor": "white",
            "ticks": ""
           }
          },
          "scene": {
           "xaxis": {
            "backgroundcolor": "#E5ECF6",
            "gridcolor": "white",
            "gridwidth": 2,
            "linecolor": "white",
            "showbackground": true,
            "ticks": "",
            "zerolinecolor": "white"
           },
           "yaxis": {
            "backgroundcolor": "#E5ECF6",
            "gridcolor": "white",
            "gridwidth": 2,
            "linecolor": "white",
            "showbackground": true,
            "ticks": "",
            "zerolinecolor": "white"
           },
           "zaxis": {
            "backgroundcolor": "#E5ECF6",
            "gridcolor": "white",
            "gridwidth": 2,
            "linecolor": "white",
            "showbackground": true,
            "ticks": "",
            "zerolinecolor": "white"
           }
          },
          "shapedefaults": {
           "line": {
            "color": "#2a3f5f"
           }
          },
          "ternary": {
           "aaxis": {
            "gridcolor": "white",
            "linecolor": "white",
            "ticks": ""
           },
           "baxis": {
            "gridcolor": "white",
            "linecolor": "white",
            "ticks": ""
           },
           "bgcolor": "#E5ECF6",
           "caxis": {
            "gridcolor": "white",
            "linecolor": "white",
            "ticks": ""
           }
          },
          "title": {
           "x": 0.05
          },
          "xaxis": {
           "automargin": true,
           "gridcolor": "white",
           "linecolor": "white",
           "ticks": "",
           "title": {
            "standoff": 15
           },
           "zerolinecolor": "white",
           "zerolinewidth": 2
          },
          "yaxis": {
           "automargin": true,
           "gridcolor": "white",
           "linecolor": "white",
           "ticks": "",
           "title": {
            "standoff": 15
           },
           "zerolinecolor": "white",
           "zerolinewidth": 2
          }
         }
        }
       }
      }
     },
     "metadata": {},
     "output_type": "display_data"
    }
   ],
   "source": [
    "fig = go.Figure()\n",
    "fig.add_trace(go.Scatter(x=X, y=Y, mode='markers', name='True values (y =  x²)', marker=dict(color='blue')))\n",
    "fig.add_trace(go.Scatter(x=X, y=model(X), mode='lines', name='Predicted values', line=dict(color='red')))\n"
   ]
  },
  {
   "cell_type": "markdown",
   "metadata": {},
   "source": [
    "## Test the Model on Unseen Data"
   ]
  },
  {
   "cell_type": "code",
   "execution_count": 9,
   "metadata": {},
   "outputs": [],
   "source": [
    "X_new = np.array([11])\n",
    "Y_new_pred = model(X_new)  # Predict the output for the new input value"
   ]
  },
  {
   "cell_type": "code",
   "execution_count": 10,
   "metadata": {},
   "outputs": [
    {
     "data": {
      "application/vnd.plotly.v1+json": {
       "config": {
        "plotlyServerURL": "https://plot.ly"
       },
       "data": [
        {
         "marker": {
          "color": "blue"
         },
         "mode": "markers",
         "name": "True values (y =  x²)",
         "type": "scatter",
         "x": {
          "bdata": "AQIDBAUGBwgJCg==",
          "dtype": "i1"
         },
         "y": {
          "bdata": "AQQJEBkkMUBRZA==",
          "dtype": "i1"
         }
        },
        {
         "line": {
          "color": "red"
         },
         "mode": "lines",
         "name": "Predicted values",
         "type": "scatter",
         "x": {
          "bdata": "AQIDBAUGBwgJCg==",
          "dtype": "i1"
         },
         "y": {
          "bdata": "8kf1YOlq9D91aYXhzUAPQMrXybVXRyFARSFY5MnyLkBmGwYCRWk4QBmGOQWmuUFAgXG5Bb1LSEDuz4KC5+pPQLDQyr2SS1RA6fJ4eDsoWUA=",
          "dtype": "f8"
         }
        },
        {
         "marker": {
          "color": "green",
          "size": 10
         },
         "mode": "markers",
         "name": "Prediction for X=11",
         "type": "scatter",
         "x": {
          "bdata": "Cw==",
          "dtype": "i1"
         },
         "y": {
          "bdata": "pM5L8W2LXkA=",
          "dtype": "f8"
         }
        }
       ],
       "layout": {
        "template": {
         "data": {
          "bar": [
           {
            "error_x": {
             "color": "#2a3f5f"
            },
            "error_y": {
             "color": "#2a3f5f"
            },
            "marker": {
             "line": {
              "color": "#E5ECF6",
              "width": 0.5
             },
             "pattern": {
              "fillmode": "overlay",
              "size": 10,
              "solidity": 0.2
             }
            },
            "type": "bar"
           }
          ],
          "barpolar": [
           {
            "marker": {
             "line": {
              "color": "#E5ECF6",
              "width": 0.5
             },
             "pattern": {
              "fillmode": "overlay",
              "size": 10,
              "solidity": 0.2
             }
            },
            "type": "barpolar"
           }
          ],
          "carpet": [
           {
            "aaxis": {
             "endlinecolor": "#2a3f5f",
             "gridcolor": "white",
             "linecolor": "white",
             "minorgridcolor": "white",
             "startlinecolor": "#2a3f5f"
            },
            "baxis": {
             "endlinecolor": "#2a3f5f",
             "gridcolor": "white",
             "linecolor": "white",
             "minorgridcolor": "white",
             "startlinecolor": "#2a3f5f"
            },
            "type": "carpet"
           }
          ],
          "choropleth": [
           {
            "colorbar": {
             "outlinewidth": 0,
             "ticks": ""
            },
            "type": "choropleth"
           }
          ],
          "contour": [
           {
            "colorbar": {
             "outlinewidth": 0,
             "ticks": ""
            },
            "colorscale": [
             [
              0,
              "#0d0887"
             ],
             [
              0.1111111111111111,
              "#46039f"
             ],
             [
              0.2222222222222222,
              "#7201a8"
             ],
             [
              0.3333333333333333,
              "#9c179e"
             ],
             [
              0.4444444444444444,
              "#bd3786"
             ],
             [
              0.5555555555555556,
              "#d8576b"
             ],
             [
              0.6666666666666666,
              "#ed7953"
             ],
             [
              0.7777777777777778,
              "#fb9f3a"
             ],
             [
              0.8888888888888888,
              "#fdca26"
             ],
             [
              1,
              "#f0f921"
             ]
            ],
            "type": "contour"
           }
          ],
          "contourcarpet": [
           {
            "colorbar": {
             "outlinewidth": 0,
             "ticks": ""
            },
            "type": "contourcarpet"
           }
          ],
          "heatmap": [
           {
            "colorbar": {
             "outlinewidth": 0,
             "ticks": ""
            },
            "colorscale": [
             [
              0,
              "#0d0887"
             ],
             [
              0.1111111111111111,
              "#46039f"
             ],
             [
              0.2222222222222222,
              "#7201a8"
             ],
             [
              0.3333333333333333,
              "#9c179e"
             ],
             [
              0.4444444444444444,
              "#bd3786"
             ],
             [
              0.5555555555555556,
              "#d8576b"
             ],
             [
              0.6666666666666666,
              "#ed7953"
             ],
             [
              0.7777777777777778,
              "#fb9f3a"
             ],
             [
              0.8888888888888888,
              "#fdca26"
             ],
             [
              1,
              "#f0f921"
             ]
            ],
            "type": "heatmap"
           }
          ],
          "histogram": [
           {
            "marker": {
             "pattern": {
              "fillmode": "overlay",
              "size": 10,
              "solidity": 0.2
             }
            },
            "type": "histogram"
           }
          ],
          "histogram2d": [
           {
            "colorbar": {
             "outlinewidth": 0,
             "ticks": ""
            },
            "colorscale": [
             [
              0,
              "#0d0887"
             ],
             [
              0.1111111111111111,
              "#46039f"
             ],
             [
              0.2222222222222222,
              "#7201a8"
             ],
             [
              0.3333333333333333,
              "#9c179e"
             ],
             [
              0.4444444444444444,
              "#bd3786"
             ],
             [
              0.5555555555555556,
              "#d8576b"
             ],
             [
              0.6666666666666666,
              "#ed7953"
             ],
             [
              0.7777777777777778,
              "#fb9f3a"
             ],
             [
              0.8888888888888888,
              "#fdca26"
             ],
             [
              1,
              "#f0f921"
             ]
            ],
            "type": "histogram2d"
           }
          ],
          "histogram2dcontour": [
           {
            "colorbar": {
             "outlinewidth": 0,
             "ticks": ""
            },
            "colorscale": [
             [
              0,
              "#0d0887"
             ],
             [
              0.1111111111111111,
              "#46039f"
             ],
             [
              0.2222222222222222,
              "#7201a8"
             ],
             [
              0.3333333333333333,
              "#9c179e"
             ],
             [
              0.4444444444444444,
              "#bd3786"
             ],
             [
              0.5555555555555556,
              "#d8576b"
             ],
             [
              0.6666666666666666,
              "#ed7953"
             ],
             [
              0.7777777777777778,
              "#fb9f3a"
             ],
             [
              0.8888888888888888,
              "#fdca26"
             ],
             [
              1,
              "#f0f921"
             ]
            ],
            "type": "histogram2dcontour"
           }
          ],
          "mesh3d": [
           {
            "colorbar": {
             "outlinewidth": 0,
             "ticks": ""
            },
            "type": "mesh3d"
           }
          ],
          "parcoords": [
           {
            "line": {
             "colorbar": {
              "outlinewidth": 0,
              "ticks": ""
             }
            },
            "type": "parcoords"
           }
          ],
          "pie": [
           {
            "automargin": true,
            "type": "pie"
           }
          ],
          "scatter": [
           {
            "fillpattern": {
             "fillmode": "overlay",
             "size": 10,
             "solidity": 0.2
            },
            "type": "scatter"
           }
          ],
          "scatter3d": [
           {
            "line": {
             "colorbar": {
              "outlinewidth": 0,
              "ticks": ""
             }
            },
            "marker": {
             "colorbar": {
              "outlinewidth": 0,
              "ticks": ""
             }
            },
            "type": "scatter3d"
           }
          ],
          "scattercarpet": [
           {
            "marker": {
             "colorbar": {
              "outlinewidth": 0,
              "ticks": ""
             }
            },
            "type": "scattercarpet"
           }
          ],
          "scattergeo": [
           {
            "marker": {
             "colorbar": {
              "outlinewidth": 0,
              "ticks": ""
             }
            },
            "type": "scattergeo"
           }
          ],
          "scattergl": [
           {
            "marker": {
             "colorbar": {
              "outlinewidth": 0,
              "ticks": ""
             }
            },
            "type": "scattergl"
           }
          ],
          "scattermap": [
           {
            "marker": {
             "colorbar": {
              "outlinewidth": 0,
              "ticks": ""
             }
            },
            "type": "scattermap"
           }
          ],
          "scattermapbox": [
           {
            "marker": {
             "colorbar": {
              "outlinewidth": 0,
              "ticks": ""
             }
            },
            "type": "scattermapbox"
           }
          ],
          "scatterpolar": [
           {
            "marker": {
             "colorbar": {
              "outlinewidth": 0,
              "ticks": ""
             }
            },
            "type": "scatterpolar"
           }
          ],
          "scatterpolargl": [
           {
            "marker": {
             "colorbar": {
              "outlinewidth": 0,
              "ticks": ""
             }
            },
            "type": "scatterpolargl"
           }
          ],
          "scatterternary": [
           {
            "marker": {
             "colorbar": {
              "outlinewidth": 0,
              "ticks": ""
             }
            },
            "type": "scatterternary"
           }
          ],
          "surface": [
           {
            "colorbar": {
             "outlinewidth": 0,
             "ticks": ""
            },
            "colorscale": [
             [
              0,
              "#0d0887"
             ],
             [
              0.1111111111111111,
              "#46039f"
             ],
             [
              0.2222222222222222,
              "#7201a8"
             ],
             [
              0.3333333333333333,
              "#9c179e"
             ],
             [
              0.4444444444444444,
              "#bd3786"
             ],
             [
              0.5555555555555556,
              "#d8576b"
             ],
             [
              0.6666666666666666,
              "#ed7953"
             ],
             [
              0.7777777777777778,
              "#fb9f3a"
             ],
             [
              0.8888888888888888,
              "#fdca26"
             ],
             [
              1,
              "#f0f921"
             ]
            ],
            "type": "surface"
           }
          ],
          "table": [
           {
            "cells": {
             "fill": {
              "color": "#EBF0F8"
             },
             "line": {
              "color": "white"
             }
            },
            "header": {
             "fill": {
              "color": "#C8D4E3"
             },
             "line": {
              "color": "white"
             }
            },
            "type": "table"
           }
          ]
         },
         "layout": {
          "annotationdefaults": {
           "arrowcolor": "#2a3f5f",
           "arrowhead": 0,
           "arrowwidth": 1
          },
          "autotypenumbers": "strict",
          "coloraxis": {
           "colorbar": {
            "outlinewidth": 0,
            "ticks": ""
           }
          },
          "colorscale": {
           "diverging": [
            [
             0,
             "#8e0152"
            ],
            [
             0.1,
             "#c51b7d"
            ],
            [
             0.2,
             "#de77ae"
            ],
            [
             0.3,
             "#f1b6da"
            ],
            [
             0.4,
             "#fde0ef"
            ],
            [
             0.5,
             "#f7f7f7"
            ],
            [
             0.6,
             "#e6f5d0"
            ],
            [
             0.7,
             "#b8e186"
            ],
            [
             0.8,
             "#7fbc41"
            ],
            [
             0.9,
             "#4d9221"
            ],
            [
             1,
             "#276419"
            ]
           ],
           "sequential": [
            [
             0,
             "#0d0887"
            ],
            [
             0.1111111111111111,
             "#46039f"
            ],
            [
             0.2222222222222222,
             "#7201a8"
            ],
            [
             0.3333333333333333,
             "#9c179e"
            ],
            [
             0.4444444444444444,
             "#bd3786"
            ],
            [
             0.5555555555555556,
             "#d8576b"
            ],
            [
             0.6666666666666666,
             "#ed7953"
            ],
            [
             0.7777777777777778,
             "#fb9f3a"
            ],
            [
             0.8888888888888888,
             "#fdca26"
            ],
            [
             1,
             "#f0f921"
            ]
           ],
           "sequentialminus": [
            [
             0,
             "#0d0887"
            ],
            [
             0.1111111111111111,
             "#46039f"
            ],
            [
             0.2222222222222222,
             "#7201a8"
            ],
            [
             0.3333333333333333,
             "#9c179e"
            ],
            [
             0.4444444444444444,
             "#bd3786"
            ],
            [
             0.5555555555555556,
             "#d8576b"
            ],
            [
             0.6666666666666666,
             "#ed7953"
            ],
            [
             0.7777777777777778,
             "#fb9f3a"
            ],
            [
             0.8888888888888888,
             "#fdca26"
            ],
            [
             1,
             "#f0f921"
            ]
           ]
          },
          "colorway": [
           "#636efa",
           "#EF553B",
           "#00cc96",
           "#ab63fa",
           "#FFA15A",
           "#19d3f3",
           "#FF6692",
           "#B6E880",
           "#FF97FF",
           "#FECB52"
          ],
          "font": {
           "color": "#2a3f5f"
          },
          "geo": {
           "bgcolor": "white",
           "lakecolor": "white",
           "landcolor": "#E5ECF6",
           "showlakes": true,
           "showland": true,
           "subunitcolor": "white"
          },
          "hoverlabel": {
           "align": "left"
          },
          "hovermode": "closest",
          "mapbox": {
           "style": "light"
          },
          "paper_bgcolor": "white",
          "plot_bgcolor": "#E5ECF6",
          "polar": {
           "angularaxis": {
            "gridcolor": "white",
            "linecolor": "white",
            "ticks": ""
           },
           "bgcolor": "#E5ECF6",
           "radialaxis": {
            "gridcolor": "white",
            "linecolor": "white",
            "ticks": ""
           }
          },
          "scene": {
           "xaxis": {
            "backgroundcolor": "#E5ECF6",
            "gridcolor": "white",
            "gridwidth": 2,
            "linecolor": "white",
            "showbackground": true,
            "ticks": "",
            "zerolinecolor": "white"
           },
           "yaxis": {
            "backgroundcolor": "#E5ECF6",
            "gridcolor": "white",
            "gridwidth": 2,
            "linecolor": "white",
            "showbackground": true,
            "ticks": "",
            "zerolinecolor": "white"
           },
           "zaxis": {
            "backgroundcolor": "#E5ECF6",
            "gridcolor": "white",
            "gridwidth": 2,
            "linecolor": "white",
            "showbackground": true,
            "ticks": "",
            "zerolinecolor": "white"
           }
          },
          "shapedefaults": {
           "line": {
            "color": "#2a3f5f"
           }
          },
          "ternary": {
           "aaxis": {
            "gridcolor": "white",
            "linecolor": "white",
            "ticks": ""
           },
           "baxis": {
            "gridcolor": "white",
            "linecolor": "white",
            "ticks": ""
           },
           "bgcolor": "#E5ECF6",
           "caxis": {
            "gridcolor": "white",
            "linecolor": "white",
            "ticks": ""
           }
          },
          "title": {
           "x": 0.05
          },
          "xaxis": {
           "automargin": true,
           "gridcolor": "white",
           "linecolor": "white",
           "ticks": "",
           "title": {
            "standoff": 15
           },
           "zerolinecolor": "white",
           "zerolinewidth": 2
          },
          "yaxis": {
           "automargin": true,
           "gridcolor": "white",
           "linecolor": "white",
           "ticks": "",
           "title": {
            "standoff": 15
           },
           "zerolinecolor": "white",
           "zerolinewidth": 2
          }
         }
        }
       }
      }
     },
     "metadata": {},
     "output_type": "display_data"
    }
   ],
   "source": [
    "fig.add_trace(go.Scatter(x=X_new, y=Y_new_pred, mode='markers', name=f\"Prediction for X={X_new[0]}\", marker=dict(color='green', size=10)))\n"
   ]
  },
  {
   "cell_type": "markdown",
   "metadata": {},
   "source": [
    "## Customize the Plot and Show It"
   ]
  },
  {
   "cell_type": "code",
   "execution_count": 11,
   "metadata": {},
   "outputs": [],
   "source": [
    "#!pip install -U kaleido"
   ]
  },
  {
   "cell_type": "code",
   "execution_count": 12,
   "metadata": {},
   "outputs": [
    {
     "data": {
      "application/vnd.plotly.v1+json": {
       "config": {
        "plotlyServerURL": "https://plot.ly"
       },
       "data": [
        {
         "marker": {
          "color": "blue"
         },
         "mode": "markers",
         "name": "True values (y =  x²)",
         "type": "scatter",
         "x": {
          "bdata": "AQIDBAUGBwgJCg==",
          "dtype": "i1"
         },
         "y": {
          "bdata": "AQQJEBkkMUBRZA==",
          "dtype": "i1"
         }
        },
        {
         "line": {
          "color": "red"
         },
         "mode": "lines",
         "name": "Predicted values",
         "type": "scatter",
         "x": {
          "bdata": "AQIDBAUGBwgJCg==",
          "dtype": "i1"
         },
         "y": {
          "bdata": "8kf1YOlq9D91aYXhzUAPQMrXybVXRyFARSFY5MnyLkBmGwYCRWk4QBmGOQWmuUFAgXG5Bb1LSEDuz4KC5+pPQLDQyr2SS1RA6fJ4eDsoWUA=",
          "dtype": "f8"
         }
        },
        {
         "marker": {
          "color": "green",
          "size": 10
         },
         "mode": "markers",
         "name": "Prediction for X=11",
         "type": "scatter",
         "x": {
          "bdata": "Cw==",
          "dtype": "i1"
         },
         "y": {
          "bdata": "pM5L8W2LXkA=",
          "dtype": "f8"
         }
        }
       ],
       "layout": {
        "height": 400,
        "showlegend": true,
        "template": {
         "data": {
          "bar": [
           {
            "error_x": {
             "color": "#2a3f5f"
            },
            "error_y": {
             "color": "#2a3f5f"
            },
            "marker": {
             "line": {
              "color": "#E5ECF6",
              "width": 0.5
             },
             "pattern": {
              "fillmode": "overlay",
              "size": 10,
              "solidity": 0.2
             }
            },
            "type": "bar"
           }
          ],
          "barpolar": [
           {
            "marker": {
             "line": {
              "color": "#E5ECF6",
              "width": 0.5
             },
             "pattern": {
              "fillmode": "overlay",
              "size": 10,
              "solidity": 0.2
             }
            },
            "type": "barpolar"
           }
          ],
          "carpet": [
           {
            "aaxis": {
             "endlinecolor": "#2a3f5f",
             "gridcolor": "white",
             "linecolor": "white",
             "minorgridcolor": "white",
             "startlinecolor": "#2a3f5f"
            },
            "baxis": {
             "endlinecolor": "#2a3f5f",
             "gridcolor": "white",
             "linecolor": "white",
             "minorgridcolor": "white",
             "startlinecolor": "#2a3f5f"
            },
            "type": "carpet"
           }
          ],
          "choropleth": [
           {
            "colorbar": {
             "outlinewidth": 0,
             "ticks": ""
            },
            "type": "choropleth"
           }
          ],
          "contour": [
           {
            "colorbar": {
             "outlinewidth": 0,
             "ticks": ""
            },
            "colorscale": [
             [
              0,
              "#0d0887"
             ],
             [
              0.1111111111111111,
              "#46039f"
             ],
             [
              0.2222222222222222,
              "#7201a8"
             ],
             [
              0.3333333333333333,
              "#9c179e"
             ],
             [
              0.4444444444444444,
              "#bd3786"
             ],
             [
              0.5555555555555556,
              "#d8576b"
             ],
             [
              0.6666666666666666,
              "#ed7953"
             ],
             [
              0.7777777777777778,
              "#fb9f3a"
             ],
             [
              0.8888888888888888,
              "#fdca26"
             ],
             [
              1,
              "#f0f921"
             ]
            ],
            "type": "contour"
           }
          ],
          "contourcarpet": [
           {
            "colorbar": {
             "outlinewidth": 0,
             "ticks": ""
            },
            "type": "contourcarpet"
           }
          ],
          "heatmap": [
           {
            "colorbar": {
             "outlinewidth": 0,
             "ticks": ""
            },
            "colorscale": [
             [
              0,
              "#0d0887"
             ],
             [
              0.1111111111111111,
              "#46039f"
             ],
             [
              0.2222222222222222,
              "#7201a8"
             ],
             [
              0.3333333333333333,
              "#9c179e"
             ],
             [
              0.4444444444444444,
              "#bd3786"
             ],
             [
              0.5555555555555556,
              "#d8576b"
             ],
             [
              0.6666666666666666,
              "#ed7953"
             ],
             [
              0.7777777777777778,
              "#fb9f3a"
             ],
             [
              0.8888888888888888,
              "#fdca26"
             ],
             [
              1,
              "#f0f921"
             ]
            ],
            "type": "heatmap"
           }
          ],
          "histogram": [
           {
            "marker": {
             "pattern": {
              "fillmode": "overlay",
              "size": 10,
              "solidity": 0.2
             }
            },
            "type": "histogram"
           }
          ],
          "histogram2d": [
           {
            "colorbar": {
             "outlinewidth": 0,
             "ticks": ""
            },
            "colorscale": [
             [
              0,
              "#0d0887"
             ],
             [
              0.1111111111111111,
              "#46039f"
             ],
             [
              0.2222222222222222,
              "#7201a8"
             ],
             [
              0.3333333333333333,
              "#9c179e"
             ],
             [
              0.4444444444444444,
              "#bd3786"
             ],
             [
              0.5555555555555556,
              "#d8576b"
             ],
             [
              0.6666666666666666,
              "#ed7953"
             ],
             [
              0.7777777777777778,
              "#fb9f3a"
             ],
             [
              0.8888888888888888,
              "#fdca26"
             ],
             [
              1,
              "#f0f921"
             ]
            ],
            "type": "histogram2d"
           }
          ],
          "histogram2dcontour": [
           {
            "colorbar": {
             "outlinewidth": 0,
             "ticks": ""
            },
            "colorscale": [
             [
              0,
              "#0d0887"
             ],
             [
              0.1111111111111111,
              "#46039f"
             ],
             [
              0.2222222222222222,
              "#7201a8"
             ],
             [
              0.3333333333333333,
              "#9c179e"
             ],
             [
              0.4444444444444444,
              "#bd3786"
             ],
             [
              0.5555555555555556,
              "#d8576b"
             ],
             [
              0.6666666666666666,
              "#ed7953"
             ],
             [
              0.7777777777777778,
              "#fb9f3a"
             ],
             [
              0.8888888888888888,
              "#fdca26"
             ],
             [
              1,
              "#f0f921"
             ]
            ],
            "type": "histogram2dcontour"
           }
          ],
          "mesh3d": [
           {
            "colorbar": {
             "outlinewidth": 0,
             "ticks": ""
            },
            "type": "mesh3d"
           }
          ],
          "parcoords": [
           {
            "line": {
             "colorbar": {
              "outlinewidth": 0,
              "ticks": ""
             }
            },
            "type": "parcoords"
           }
          ],
          "pie": [
           {
            "automargin": true,
            "type": "pie"
           }
          ],
          "scatter": [
           {
            "fillpattern": {
             "fillmode": "overlay",
             "size": 10,
             "solidity": 0.2
            },
            "type": "scatter"
           }
          ],
          "scatter3d": [
           {
            "line": {
             "colorbar": {
              "outlinewidth": 0,
              "ticks": ""
             }
            },
            "marker": {
             "colorbar": {
              "outlinewidth": 0,
              "ticks": ""
             }
            },
            "type": "scatter3d"
           }
          ],
          "scattercarpet": [
           {
            "marker": {
             "colorbar": {
              "outlinewidth": 0,
              "ticks": ""
             }
            },
            "type": "scattercarpet"
           }
          ],
          "scattergeo": [
           {
            "marker": {
             "colorbar": {
              "outlinewidth": 0,
              "ticks": ""
             }
            },
            "type": "scattergeo"
           }
          ],
          "scattergl": [
           {
            "marker": {
             "colorbar": {
              "outlinewidth": 0,
              "ticks": ""
             }
            },
            "type": "scattergl"
           }
          ],
          "scattermap": [
           {
            "marker": {
             "colorbar": {
              "outlinewidth": 0,
              "ticks": ""
             }
            },
            "type": "scattermap"
           }
          ],
          "scattermapbox": [
           {
            "marker": {
             "colorbar": {
              "outlinewidth": 0,
              "ticks": ""
             }
            },
            "type": "scattermapbox"
           }
          ],
          "scatterpolar": [
           {
            "marker": {
             "colorbar": {
              "outlinewidth": 0,
              "ticks": ""
             }
            },
            "type": "scatterpolar"
           }
          ],
          "scatterpolargl": [
           {
            "marker": {
             "colorbar": {
              "outlinewidth": 0,
              "ticks": ""
             }
            },
            "type": "scatterpolargl"
           }
          ],
          "scatterternary": [
           {
            "marker": {
             "colorbar": {
              "outlinewidth": 0,
              "ticks": ""
             }
            },
            "type": "scatterternary"
           }
          ],
          "surface": [
           {
            "colorbar": {
             "outlinewidth": 0,
             "ticks": ""
            },
            "colorscale": [
             [
              0,
              "#0d0887"
             ],
             [
              0.1111111111111111,
              "#46039f"
             ],
             [
              0.2222222222222222,
              "#7201a8"
             ],
             [
              0.3333333333333333,
              "#9c179e"
             ],
             [
              0.4444444444444444,
              "#bd3786"
             ],
             [
              0.5555555555555556,
              "#d8576b"
             ],
             [
              0.6666666666666666,
              "#ed7953"
             ],
             [
              0.7777777777777778,
              "#fb9f3a"
             ],
             [
              0.8888888888888888,
              "#fdca26"
             ],
             [
              1,
              "#f0f921"
             ]
            ],
            "type": "surface"
           }
          ],
          "table": [
           {
            "cells": {
             "fill": {
              "color": "#EBF0F8"
             },
             "line": {
              "color": "white"
             }
            },
            "header": {
             "fill": {
              "color": "#C8D4E3"
             },
             "line": {
              "color": "white"
             }
            },
            "type": "table"
           }
          ]
         },
         "layout": {
          "annotationdefaults": {
           "arrowcolor": "#2a3f5f",
           "arrowhead": 0,
           "arrowwidth": 1
          },
          "autotypenumbers": "strict",
          "coloraxis": {
           "colorbar": {
            "outlinewidth": 0,
            "ticks": ""
           }
          },
          "colorscale": {
           "diverging": [
            [
             0,
             "#8e0152"
            ],
            [
             0.1,
             "#c51b7d"
            ],
            [
             0.2,
             "#de77ae"
            ],
            [
             0.3,
             "#f1b6da"
            ],
            [
             0.4,
             "#fde0ef"
            ],
            [
             0.5,
             "#f7f7f7"
            ],
            [
             0.6,
             "#e6f5d0"
            ],
            [
             0.7,
             "#b8e186"
            ],
            [
             0.8,
             "#7fbc41"
            ],
            [
             0.9,
             "#4d9221"
            ],
            [
             1,
             "#276419"
            ]
           ],
           "sequential": [
            [
             0,
             "#0d0887"
            ],
            [
             0.1111111111111111,
             "#46039f"
            ],
            [
             0.2222222222222222,
             "#7201a8"
            ],
            [
             0.3333333333333333,
             "#9c179e"
            ],
            [
             0.4444444444444444,
             "#bd3786"
            ],
            [
             0.5555555555555556,
             "#d8576b"
            ],
            [
             0.6666666666666666,
             "#ed7953"
            ],
            [
             0.7777777777777778,
             "#fb9f3a"
            ],
            [
             0.8888888888888888,
             "#fdca26"
            ],
            [
             1,
             "#f0f921"
            ]
           ],
           "sequentialminus": [
            [
             0,
             "#0d0887"
            ],
            [
             0.1111111111111111,
             "#46039f"
            ],
            [
             0.2222222222222222,
             "#7201a8"
            ],
            [
             0.3333333333333333,
             "#9c179e"
            ],
            [
             0.4444444444444444,
             "#bd3786"
            ],
            [
             0.5555555555555556,
             "#d8576b"
            ],
            [
             0.6666666666666666,
             "#ed7953"
            ],
            [
             0.7777777777777778,
             "#fb9f3a"
            ],
            [
             0.8888888888888888,
             "#fdca26"
            ],
            [
             1,
             "#f0f921"
            ]
           ]
          },
          "colorway": [
           "#636efa",
           "#EF553B",
           "#00cc96",
           "#ab63fa",
           "#FFA15A",
           "#19d3f3",
           "#FF6692",
           "#B6E880",
           "#FF97FF",
           "#FECB52"
          ],
          "font": {
           "color": "#2a3f5f"
          },
          "geo": {
           "bgcolor": "white",
           "lakecolor": "white",
           "landcolor": "#E5ECF6",
           "showlakes": true,
           "showland": true,
           "subunitcolor": "white"
          },
          "hoverlabel": {
           "align": "left"
          },
          "hovermode": "closest",
          "mapbox": {
           "style": "light"
          },
          "paper_bgcolor": "white",
          "plot_bgcolor": "#E5ECF6",
          "polar": {
           "angularaxis": {
            "gridcolor": "white",
            "linecolor": "white",
            "ticks": ""
           },
           "bgcolor": "#E5ECF6",
           "radialaxis": {
            "gridcolor": "white",
            "linecolor": "white",
            "ticks": ""
           }
          },
          "scene": {
           "xaxis": {
            "backgroundcolor": "#E5ECF6",
            "gridcolor": "white",
            "gridwidth": 2,
            "linecolor": "white",
            "showbackground": true,
            "ticks": "",
            "zerolinecolor": "white"
           },
           "yaxis": {
            "backgroundcolor": "#E5ECF6",
            "gridcolor": "white",
            "gridwidth": 2,
            "linecolor": "white",
            "showbackground": true,
            "ticks": "",
            "zerolinecolor": "white"
           },
           "zaxis": {
            "backgroundcolor": "#E5ECF6",
            "gridcolor": "white",
            "gridwidth": 2,
            "linecolor": "white",
            "showbackground": true,
            "ticks": "",
            "zerolinecolor": "white"
           }
          },
          "shapedefaults": {
           "line": {
            "color": "#2a3f5f"
           }
          },
          "ternary": {
           "aaxis": {
            "gridcolor": "white",
            "linecolor": "white",
            "ticks": ""
           },
           "baxis": {
            "gridcolor": "white",
            "linecolor": "white",
            "ticks": ""
           },
           "bgcolor": "#E5ECF6",
           "caxis": {
            "gridcolor": "white",
            "linecolor": "white",
            "ticks": ""
           }
          },
          "title": {
           "x": 0.05
          },
          "xaxis": {
           "automargin": true,
           "gridcolor": "white",
           "linecolor": "white",
           "ticks": "",
           "title": {
            "standoff": 15
           },
           "zerolinecolor": "white",
           "zerolinewidth": 2
          },
          "yaxis": {
           "automargin": true,
           "gridcolor": "white",
           "linecolor": "white",
           "ticks": "",
           "title": {
            "standoff": 15
           },
           "zerolinecolor": "white",
           "zerolinewidth": 2
          }
         }
        },
        "title": {
         "text": "Polynomial Regression (y = x²) with Gradient Descent"
        },
        "width": 600,
        "xaxis": {
         "title": {
          "text": "X"
         }
        },
        "yaxis": {
         "title": {
          "text": "Y"
         }
        }
       }
      }
     },
     "metadata": {},
     "output_type": "display_data"
    }
   ],
   "source": [
    "import plotly.io as pio\n",
    "\n",
    "# Set figure size\n",
    "fig.update_layout(\n",
    "    title=\"Polynomial Regression (y = x²) with Gradient Descent\",\n",
    "    xaxis_title=\"X\",\n",
    "    yaxis_title=\"Y\",\n",
    "    showlegend=True,\n",
    "    width=600,   # Adjust width\n",
    "    height=400   # Adjust height\n",
    ")\n",
    "\n",
    "# Show the figure\n",
    "fig.show()\n",
    "\n",
    "# Save the figure as PNG (or other formats like 'pdf', 'svg', 'jpeg')\n",
    "fig.write_image(\"polynomial_regression.png\")\n"
   ]
  },
  {
   "cell_type": "code",
   "execution_count": 13,
   "metadata": {},
   "outputs": [
    {
     "name": "stdout",
     "output_type": "stream",
     "text": [
      "Prediction for X=11: Y = 122.18\n"
     ]
    }
   ],
   "source": [
    "print(f\"Prediction for X={X_new[0]}: Y = {Y_new_pred[0]:.2f}\")"
   ]
  },
  {
   "cell_type": "code",
   "execution_count": 14,
   "metadata": {},
   "outputs": [
    {
     "data": {
      "application/vnd.plotly.v1+json": {
       "config": {
        "plotlyServerURL": "https://plot.ly"
       },
       "data": [
        {
         "colorscale": [
          [
           0,
           "#440154"
          ],
          [
           0.1111111111111111,
           "#482878"
          ],
          [
           0.2222222222222222,
           "#3e4989"
          ],
          [
           0.3333333333333333,
           "#31688e"
          ],
          [
           0.4444444444444444,
           "#26828e"
          ],
          [
           0.5555555555555556,
           "#1f9e89"
          ],
          [
           0.6666666666666666,
           "#35b779"
          ],
          [
           0.7777777777777778,
           "#6ece58"
          ],
          [
           0.8888888888888888,
           "#b5de2b"
          ],
          [
           1,
           "#fde725"
          ]
         ],
         "name": "Loss Surface",
         "opacity": 0.8,
         "showscale": false,
         "type": "surface",
         "x": {
          "bdata": "AAAAAAAACMCPrQgaTuoGwB5bETSc1AXArggaTuq+BMA9tiJoOKkDwMxjK4KGkwLAWxE0nNR9AcDqvjy2ImgAwPPYiqDhpP6/ETSc1H15/L8wj60IGk76v07qvjy2Ivi/bEXQcFL39b+LoOGk7svzv6n78tiKoPG/kK0IGk7q7r/MYyuChpPqvwgaTuq+POa/RNBwUvfl4b8IDSd1Xx7bv4B5bEXQcNK/8MtjK4KGw78AJ3VfHluRv2AEDSd1X74/oNR9eWxF0D8gaDip+/LYP9R9eWxF0OA/mMdWBA0n5T9cETSc1H3pPyBbETSc1O0/cFL35bEV8T9U9+WxFUHzPzSc1H15bPU/FEHDSd2X9z/45bEVQcP5P9iKoOGk7vs/vC+PrQga/j9O6r48tiIAQL48tiJoOAFAMI+tCBpOAkCg4aTuy2MDQBI0nNR9eQRAgoaTui+PBUDy2Iqg4aQGQGQrgoaTugdA1H15bEXQCEBG0HBS9+UJQLYiaDip+wpAKHVfHlsRDECYx1YEDScNQAgaTuq+PA5AemxF0HBSD0B1Xx5bETQQQK4IGk7qvhBA5rEVQcNJEUAeWxE0nNQRQFcEDSd1XxJAj60IGk7qEkDIVgQNJ3UTQAAAAAAAABRA",
          "dtype": "f8"
         },
         "y": {
          "bdata": "AAAAAAAA8L9XBA0ndV/uv64IGk7qvuy/BA0ndV8e679bETSc1H3pv7IVQcNJ3ee/CBpO6r485r9fHlsRNJzkv7YiaDip++K/DSd1Xx5b4b/IVgQNJ3Xfv3RfHlsRNNy/Img4qfvy2L/QcFL35bHVv3x5bEXQcNK/VAQNJ3Vfzr+wFUHDSd3HvwwndV8eW8G/0HBS9+Wxtb8AJ3VfHluhvwAndV8eW5E/ECd1Xx5bsT9gBA0ndV++P9BwUvflscU/eF8eWxE0zD8QJ3VfHlvRP2AeWxE0nNQ/tBVBw0nd1z8IDSd1Xx7bP1gEDSd1X94/1n15bEXQ4D9+eWxF0HDiPyh1Xx5bEeQ/0nBS9+Wx5T96bEXQcFLnPyRoOKn78ug/zGMrgoaT6j92Xx5bETTsPyBbETSc1O0/yFYEDSd17z84qfvy2IrwPw4ndV8eW/E/4qTuy2Mr8j+2Img4qfvyP4yg4aTuy/M/YB5bETSc9D80nNR9eWz1PwoaTuq+PPY/3pfHVgQN9z+yFUHDSd33P4iTui+Prfg/XBE0nNR9+T8wj60IGk76PwYNJ3VfHvs/2oqg4aTu+z+uCBpO6r78P4SGk7ovj/0/WAQNJ3Vf/j8sgoaTui//PwAAAAAAAABA",
          "dtype": "f8"
         },
         "z": {
          "bdata": "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",
          "dtype": "f8",
          "shape": "60, 60"
         }
        },
        {
         "marker": {
          "color": "red",
          "size": 6
         },
         "mode": "markers",
         "name": "Start",
         "type": "scatter3d",
         "x": [
          0
         ],
         "y": [
          0
         ],
         "z": [
          23.643891037840866
         ]
        }
       ],
       "frames": [
        {
         "data": [
          {
           "marker": {
            "color": "red",
            "size": 6
           },
           "mode": "markers",
           "name": "Step",
           "type": "scatter3d",
           "x": [
            0
           ],
           "y": [
            0
           ],
           "z": [
            23.643891037840866
           ]
          }
         ],
         "name": "0"
        },
        {
         "data": [
          {
           "marker": {
            "color": "red",
            "size": 6
           },
           "mode": "markers",
           "name": "Step",
           "type": "scatter3d",
           "x": [
            0.6261931313232558
           ],
           "y": [
            1.1159478082857668
           ],
           "z": [
            13.651533107043965
           ]
          }
         ],
         "name": "1"
        },
        {
         "data": [
          {
           "marker": {
            "color": "red",
            "size": 6
           },
           "mode": "markers",
           "name": "Step",
           "type": "scatter3d",
           "x": [
            1.0607332133627272
           ],
           "y": [
            0.27944345896029343
           ],
           "z": [
            8.599892927065888
           ]
          }
         ],
         "name": "2"
        },
        {
         "data": [
          {
           "marker": {
            "color": "red",
            "size": 6
           },
           "mode": "markers",
           "name": "Step",
           "type": "scatter3d",
           "x": [
            1.3622776945355726
           ],
           "y": [
            0.8937510868705579
           ],
           "z": [
            6.033141375929092
           ]
          }
         ],
         "name": "3"
        },
        {
         "data": [
          {
           "marker": {
            "color": "red",
            "size": 6
           },
           "mode": "markers",
           "name": "Step",
           "type": "scatter3d",
           "x": [
            1.571531289046426
           ],
           "y": [
            0.4305463887018129
           ],
           "z": [
            4.721466170787844
           ]
          }
         ],
         "name": "4"
        },
        {
         "data": [
          {
           "marker": {
            "color": "red",
            "size": 6
           },
           "mode": "markers",
           "name": "Step",
           "type": "scatter3d",
           "x": [
            1.716740601600927
           ],
           "y": [
            0.768127318797498
           ],
           "z": [
            4.0465843647767334
           ]
          }
         ],
         "name": "5"
        },
        {
         "data": [
          {
           "marker": {
            "color": "red",
            "size": 6
           },
           "mode": "markers",
           "name": "Step",
           "type": "scatter3d",
           "x": [
            1.8175070639493536
           ],
           "y": [
            0.5110795785666983
           ],
           "z": [
            3.696363819624514
           ]
          }
         ],
         "name": "6"
        },
        {
         "data": [
          {
           "marker": {
            "color": "red",
            "size": 6
           },
           "mode": "markers",
           "name": "Step",
           "type": "scatter3d",
           "x": [
            1.8874328817608375
           ],
           "y": [
            0.6960548679399359
           ],
           "z": [
            3.512540405143147
           ]
          }
         ],
         "name": "7"
        },
        {
         "data": [
          {
           "marker": {
            "color": "red",
            "size": 6
           },
           "mode": "markers",
           "name": "Step",
           "type": "scatter3d",
           "x": [
            1.935957161393655
           ],
           "y": [
            0.5529052828369792
           ],
           "z": [
            3.4145008986385266
           ]
          }
         ],
         "name": "8"
        },
        {
         "data": [
          {
           "marker": {
            "color": "red",
            "size": 6
           },
           "mode": "markers",
           "name": "Step",
           "type": "scatter3d",
           "x": [
            1.9696300705933982
           ],
           "y": [
            0.6537684317468659
           ],
           "z": [
            3.3609881398526715
           ]
          }
         ],
         "name": "9"
        },
        {
         "data": [
          {
           "marker": {
            "color": "red",
            "size": 6
           },
           "mode": "markers",
           "name": "Step",
           "type": "scatter3d",
           "x": [
            1.9929970287956442
           ],
           "y": [
            0.5735883953120988
           ],
           "z": [
            3.330781167774209
           ]
          }
         ],
         "name": "10"
        },
        {
         "data": [
          {
           "marker": {
            "color": "red",
            "size": 6
           },
           "mode": "markers",
           "name": "Step",
           "type": "scatter3d",
           "x": [
            2.009212281608718
           ],
           "y": [
            0.6281322814878995
           ],
           "z": [
            3.3129065618316473
           ]
          }
         ],
         "name": "11"
        },
        {
         "data": [
          {
           "marker": {
            "color": "red",
            "size": 6
           },
           "mode": "markers",
           "name": "Step",
           "type": "scatter3d",
           "x": [
            2.020464684318396
           ],
           "y": [
            0.582804634603272
           ],
           "z": [
            3.3016568818584657
           ]
          }
         ],
         "name": "12"
        },
        {
         "data": [
          {
           "marker": {
            "color": "red",
            "size": 6
           },
           "mode": "markers",
           "name": "Step",
           "type": "scatter3d",
           "x": [
            2.0282731698351126
           ],
           "y": [
            0.611878903847732
           ],
           "z": [
            3.294043926931648
           ]
          }
         ],
         "name": "13"
        },
        {
         "data": [
          {
           "marker": {
            "color": "red",
            "size": 6
           },
           "mode": "markers",
           "name": "Step",
           "type": "scatter3d",
           "x": [
            2.0336917855421675
           ],
           "y": [
            0.5858771525256533
           ],
           "z": [
            3.2884906928094875
           ]
          }
         ],
         "name": "14"
        },
        {
         "data": [
          {
           "marker": {
            "color": "red",
            "size": 6
           },
           "mode": "markers",
           "name": "Step",
           "type": "scatter3d",
           "x": [
            2.0374519764419112
           ],
           "y": [
            0.6009810149051269
           ],
           "z": [
            3.2841563714577493
           ]
          }
         ],
         "name": "15"
        },
        {
         "data": [
          {
           "marker": {
            "color": "red",
            "size": 6
           },
           "mode": "markers",
           "name": "Step",
           "type": "scatter3d",
           "x": [
            2.040061321035976
           ],
           "y": [
            0.5857282979848389
           ],
           "z": [
            3.2805863661910304
           ]
          }
         ],
         "name": "16"
        },
        {
         "data": [
          {
           "marker": {
            "color": "red",
            "size": 6
           },
           "mode": "markers",
           "name": "Step",
           "type": "scatter3d",
           "x": [
            2.0418720480421606
           ],
           "y": [
            0.5932010185844874
           ],
           "z": [
            3.2775299558022777
           ]
          }
         ],
         "name": "17"
        },
        {
         "data": [
          {
           "marker": {
            "color": "red",
            "size": 6
           },
           "mode": "markers",
           "name": "Step",
           "type": "scatter3d",
           "x": [
            2.043128582843422
           ],
           "y": [
            0.5839566978607615
           ],
           "z": [
            3.274844840182421
           ]
          }
         ],
         "name": "18"
        },
        {
         "data": [
          {
           "marker": {
            "color": "red",
            "size": 6
           },
           "mode": "markers",
           "name": "Step",
           "type": "scatter3d",
           "x": [
            2.0440005418418727
           ],
           "y": [
            0.5872903209199655
           ],
           "z": [
            3.2724469208779783
           ]
          }
         ],
         "name": "19"
        },
        {
         "data": [
          {
           "marker": {
            "color": "red",
            "size": 6
           },
           "mode": "markers",
           "name": "Step",
           "type": "scatter3d",
           "x": [
            2.044605628540798
           ],
           "y": [
            0.5814316003213336
           ],
           "z": [
            3.2702837420633273
           ]
          }
         ],
         "name": "20"
        },
        {
         "data": [
          {
           "marker": {
            "color": "red",
            "size": 6
           },
           "mode": "markers",
           "name": "Step",
           "type": "scatter3d",
           "x": [
            2.0450255220379305
           ],
           "y": [
            0.5825473169493529
           ],
           "z": [
            3.268320363800111
           ]
          }
         ],
         "name": "21"
        },
        {
         "data": [
          {
           "marker": {
            "color": "red",
            "size": 6
           },
           "mode": "markers",
           "name": "Step",
           "type": "scatter3d",
           "x": [
            2.04531690267685
           ],
           "y": [
            0.5786207989402034
           ],
           "z": [
            3.2665317974721946
           ]
          }
         ],
         "name": "22"
        },
        {
         "data": [
          {
           "marker": {
            "color": "red",
            "size": 6
           },
           "mode": "markers",
           "name": "Step",
           "type": "scatter3d",
           "x": [
            2.0455191031808275
           ],
           "y": [
            0.5785733420515767
           ],
           "z": [
            3.264898920811494
           ]
          }
         ],
         "name": "23"
        },
        {
         "data": [
          {
           "marker": {
            "color": "red",
            "size": 6
           },
           "mode": "markers",
           "name": "Step",
           "type": "scatter3d",
           "x": [
            2.0456594180760117
           ],
           "y": [
            0.5757715254564976
           ],
           "z": [
            3.2634062467310923
           ]
          }
         ],
         "name": "24"
        },
        {
         "data": [
          {
           "marker": {
            "color": "red",
            "size": 6
           },
           "mode": "markers",
           "name": "Step",
           "type": "scatter3d",
           "x": [
            2.045756788109337
           ],
           "y": [
            0.5751378902723376
           ],
           "z": [
            3.2620406848945014
           ]
          }
         ],
         "name": "25"
        },
        {
         "data": [
          {
           "marker": {
            "color": "red",
            "size": 6
           },
           "mode": "markers",
           "name": "Step",
           "type": "scatter3d",
           "x": [
            2.04582435701125
           ],
           "y": [
            0.5730102019938802
           ],
           "z": [
            3.2607908380853923
           ]
          }
         ],
         "name": "26"
        },
        {
         "data": [
          {
           "marker": {
            "color": "red",
            "size": 6
           },
           "mode": "markers",
           "name": "Step",
           "type": "scatter3d",
           "x": [
            2.045871245734093
           ],
           "y": [
            0.5721041458017198
           ],
           "z": [
            3.2596465888390274
           ]
          }
         ],
         "name": "27"
        },
        {
         "data": [
          {
           "marker": {
            "color": "red",
            "size": 6
           },
           "mode": "markers",
           "name": "Step",
           "type": "scatter3d",
           "x": [
            2.045903783666005
           ],
           "y": [
            0.5703974179908553
           ],
           "z": [
            3.2585988452024206
           ]
          }
         ],
         "name": "28"
        },
        {
         "data": [
          {
           "marker": {
            "color": "red",
            "size": 6
           },
           "mode": "markers",
           "name": "Step",
           "type": "scatter3d",
           "x": [
            2.045926363018756
           ],
           "y": [
            0.5693878087889797
           ],
           "z": [
            3.257639374985684
           ]
          }
         ],
         "name": "29"
        },
        {
         "data": [
          {
           "marker": {
            "color": "red",
            "size": 6
           },
           "mode": "markers",
           "name": "Step",
           "type": "scatter3d",
           "x": [
            2.0459420317211197
           ],
           "y": [
            0.5679582016475899
           ],
           "z": [
            3.256760690255569
           ]
          }
         ],
         "name": "30"
        },
        {
         "data": [
          {
           "marker": {
            "color": "red",
            "size": 6
           },
           "mode": "markers",
           "name": "Step",
           "type": "scatter3d",
           "x": [
            2.045952904850942
           ],
           "y": [
            0.5669343029247662
           ],
           "z": [
            3.255955961224874
           ]
          }
         ],
         "name": "31"
        },
        {
         "data": [
          {
           "marker": {
            "color": "red",
            "size": 6
           },
           "mode": "markers",
           "name": "Step",
           "type": "scatter3d",
           "x": [
            2.045960450144061
           ],
           "y": [
            0.5656986620991011
           ],
           "z": [
            3.2552189480760423
           ]
          }
         ],
         "name": "32"
        },
        {
         "data": [
          {
           "marker": {
            "color": "red",
            "size": 6
           },
           "mode": "markers",
           "name": "Step",
           "type": "scatter3d",
           "x": [
            2.045965686120195
           ],
           "y": [
            0.5647061338461032
           ],
           "z": [
            3.2545439443377506
           ]
          }
         ],
         "name": "33"
        },
        {
         "data": [
          {
           "marker": {
            "color": "red",
            "size": 6
           },
           "mode": "markers",
           "name": "Step",
           "type": "scatter3d",
           "x": [
            2.0459693195703004
           ],
           "y": [
            0.5636151149012399
           ],
           "z": [
            3.2539257281960765
           ]
          }
         ],
         "name": "34"
        },
        {
         "data": [
          {
           "marker": {
            "color": "red",
            "size": 6
           },
           "mode": "markers",
           "name": "Step",
           "type": "scatter3d",
           "x": [
            2.045971840964464
           ],
           "y": [
            0.5626758551298957
           ],
           "z": [
            3.2533595196326304
           ]
          }
         ],
         "name": "35"
        },
        {
         "data": [
          {
           "marker": {
            "color": "red",
            "size": 6
           },
           "mode": "markers",
           "name": "Step",
           "type": "scatter3d",
           "x": [
            2.045973590659202
           ],
           "y": [
            0.561699063976877
           ],
           "z": [
            3.2528409421145152
           ]
          }
         ],
         "name": "36"
        },
        {
         "data": [
          {
           "marker": {
            "color": "red",
            "size": 6
           },
           "mode": "markers",
           "name": "Step",
           "type": "scatter3d",
           "x": [
            2.045974804841308
           ],
           "y": [
            0.5608221339712489
           ],
           "z": [
            3.2523659880247884
           ]
          }
         ],
         "name": "37"
        },
        {
         "data": [
          {
           "marker": {
            "color": "red",
            "size": 6
           },
           "mode": "markers",
           "name": "Step",
           "type": "scatter3d",
           "x": [
            2.0459756474101027
           ],
           "y": [
            0.5599399012802441
           ],
           "z": [
            3.25193098728456
           ]
          }
         ],
         "name": "38"
        },
        {
         "data": [
          {
           "marker": {
            "color": "red",
            "size": 6
           },
           "mode": "markers",
           "name": "Step",
           "type": "scatter3d",
           "x": [
            2.045976232101782
           ],
           "y": [
            0.5591275320024108
           ],
           "z": [
            3.2515325787701306
           ]
          }
         ],
         "name": "39"
        },
        {
         "data": [
          {
           "marker": {
            "color": "red",
            "size": 6
           },
           "mode": "markers",
           "name": "Step",
           "type": "scatter3d",
           "x": [
            2.045976637842371
           ],
           "y": [
            0.5583263510435091
           ],
           "z": [
            3.2511676842198427
           ]
          }
         ],
         "name": "40"
        },
        {
         "data": [
          {
           "marker": {
            "color": "red",
            "size": 6
           },
           "mode": "markers",
           "name": "Step",
           "type": "scatter3d",
           "x": [
            2.0459769194017494
           ],
           "y": [
            0.557577236737187
           ],
           "z": [
            3.2508334843827327
           ]
          }
         ],
         "name": "41"
        },
        {
         "data": [
          {
           "marker": {
            "color": "red",
            "size": 6
           },
           "mode": "markers",
           "name": "Step",
           "type": "scatter3d",
           "x": [
            2.045977114786894
           ],
           "y": [
            0.5568472249904609
           ],
           "z": [
            3.2505273971993085
           ]
          }
         ],
         "name": "42"
        },
        {
         "data": [
          {
           "marker": {
            "color": "red",
            "size": 6
           },
           "mode": "markers",
           "name": "Step",
           "type": "scatter3d",
           "x": [
            2.0459772503723426
           ],
           "y": [
            0.5561583213579441
           ],
           "z": [
            3.2502470578318743
           ]
          }
         ],
         "name": "43"
        },
        {
         "data": [
          {
           "marker": {
            "color": "red",
            "size": 6
           },
           "mode": "markers",
           "name": "Step",
           "type": "scatter3d",
           "x": [
            2.045977344460427
           ],
           "y": [
            0.5554918007880967
           ],
           "z": [
            3.249990300382491
           ]
          }
         ],
         "name": "44"
        },
        {
         "data": [
          {
           "marker": {
            "color": "red",
            "size": 6
           },
           "mode": "markers",
           "name": "Step",
           "type": "scatter3d",
           "x": [
            2.0459774097518553
           ],
           "y": [
            0.5548592994727124
           ],
           "z": [
            3.2497551411530905
           ]
          }
         ],
         "name": "45"
        },
        {
         "data": [
          {
           "marker": {
            "color": "red",
            "size": 6
           },
           "mode": "markers",
           "name": "Step",
           "type": "scatter3d",
           "x": [
            2.0459774550601493
           ],
           "y": [
            0.5542499957856211
           ],
           "z": [
            3.249539763316089
           ]
          }
         ],
         "name": "46"
        },
        {
         "data": [
          {
           "marker": {
            "color": "red",
            "size": 6
           },
           "mode": "markers",
           "name": "Step",
           "type": "scatter3d",
           "x": [
            2.0459774865013594
           ],
           "y": [
            0.5536698457577788
           ],
           "z": [
            3.249342502875793
           ]
          }
         ],
         "name": "47"
        },
        {
         "data": [
          {
           "marker": {
            "color": "red",
            "size": 6
           },
           "mode": "markers",
           "name": "Step",
           "type": "scatter3d",
           "x": [
            2.0459775083196536
           ],
           "y": [
            0.5531124307255352
           ],
           "z": [
            3.2491618358114396
           ]
          }
         ],
         "name": "48"
        },
        {
         "data": [
          {
           "marker": {
            "color": "red",
            "size": 6
           },
           "mode": "markers",
           "name": "Step",
           "type": "scatter3d",
           "x": [
            2.0459775234602273
           ],
           "y": [
            0.5525806109827165
           ],
           "z": [
            3.2489963663021437
           ]
          }
         ],
         "name": "49"
        }
       ],
       "layout": {
        "height": 400,
        "scene": {
         "xaxis": {
          "title": {
           "text": "w1"
          }
         },
         "yaxis": {
          "title": {
           "text": "w2"
          }
         },
         "zaxis": {
          "title": {
           "text": "Loss"
          }
         }
        },
        "template": {
         "data": {
          "bar": [
           {
            "error_x": {
             "color": "#2a3f5f"
            },
            "error_y": {
             "color": "#2a3f5f"
            },
            "marker": {
             "line": {
              "color": "#E5ECF6",
              "width": 0.5
             },
             "pattern": {
              "fillmode": "overlay",
              "size": 10,
              "solidity": 0.2
             }
            },
            "type": "bar"
           }
          ],
          "barpolar": [
           {
            "marker": {
             "line": {
              "color": "#E5ECF6",
              "width": 0.5
             },
             "pattern": {
              "fillmode": "overlay",
              "size": 10,
              "solidity": 0.2
             }
            },
            "type": "barpolar"
           }
          ],
          "carpet": [
           {
            "aaxis": {
             "endlinecolor": "#2a3f5f",
             "gridcolor": "white",
             "linecolor": "white",
             "minorgridcolor": "white",
             "startlinecolor": "#2a3f5f"
            },
            "baxis": {
             "endlinecolor": "#2a3f5f",
             "gridcolor": "white",
             "linecolor": "white",
             "minorgridcolor": "white",
             "startlinecolor": "#2a3f5f"
            },
            "type": "carpet"
           }
          ],
          "choropleth": [
           {
            "colorbar": {
             "outlinewidth": 0,
             "ticks": ""
            },
            "type": "choropleth"
           }
          ],
          "contour": [
           {
            "colorbar": {
             "outlinewidth": 0,
             "ticks": ""
            },
            "colorscale": [
             [
              0,
              "#0d0887"
             ],
             [
              0.1111111111111111,
              "#46039f"
             ],
             [
              0.2222222222222222,
              "#7201a8"
             ],
             [
              0.3333333333333333,
              "#9c179e"
             ],
             [
              0.4444444444444444,
              "#bd3786"
             ],
             [
              0.5555555555555556,
              "#d8576b"
             ],
             [
              0.6666666666666666,
              "#ed7953"
             ],
             [
              0.7777777777777778,
              "#fb9f3a"
             ],
             [
              0.8888888888888888,
              "#fdca26"
             ],
             [
              1,
              "#f0f921"
             ]
            ],
            "type": "contour"
           }
          ],
          "contourcarpet": [
           {
            "colorbar": {
             "outlinewidth": 0,
             "ticks": ""
            },
            "type": "contourcarpet"
           }
          ],
          "heatmap": [
           {
            "colorbar": {
             "outlinewidth": 0,
             "ticks": ""
            },
            "colorscale": [
             [
              0,
              "#0d0887"
             ],
             [
              0.1111111111111111,
              "#46039f"
             ],
             [
              0.2222222222222222,
              "#7201a8"
             ],
             [
              0.3333333333333333,
              "#9c179e"
             ],
             [
              0.4444444444444444,
              "#bd3786"
             ],
             [
              0.5555555555555556,
              "#d8576b"
             ],
             [
              0.6666666666666666,
              "#ed7953"
             ],
             [
              0.7777777777777778,
              "#fb9f3a"
             ],
             [
              0.8888888888888888,
              "#fdca26"
             ],
             [
              1,
              "#f0f921"
             ]
            ],
            "type": "heatmap"
           }
          ],
          "histogram": [
           {
            "marker": {
             "pattern": {
              "fillmode": "overlay",
              "size": 10,
              "solidity": 0.2
             }
            },
            "type": "histogram"
           }
          ],
          "histogram2d": [
           {
            "colorbar": {
             "outlinewidth": 0,
             "ticks": ""
            },
            "colorscale": [
             [
              0,
              "#0d0887"
             ],
             [
              0.1111111111111111,
              "#46039f"
             ],
             [
              0.2222222222222222,
              "#7201a8"
             ],
             [
              0.3333333333333333,
              "#9c179e"
             ],
             [
              0.4444444444444444,
              "#bd3786"
             ],
             [
              0.5555555555555556,
              "#d8576b"
             ],
             [
              0.6666666666666666,
              "#ed7953"
             ],
             [
              0.7777777777777778,
              "#fb9f3a"
             ],
             [
              0.8888888888888888,
              "#fdca26"
             ],
             [
              1,
              "#f0f921"
             ]
            ],
            "type": "histogram2d"
           }
          ],
          "histogram2dcontour": [
           {
            "colorbar": {
             "outlinewidth": 0,
             "ticks": ""
            },
            "colorscale": [
             [
              0,
              "#0d0887"
             ],
             [
              0.1111111111111111,
              "#46039f"
             ],
             [
              0.2222222222222222,
              "#7201a8"
             ],
             [
              0.3333333333333333,
              "#9c179e"
             ],
             [
              0.4444444444444444,
              "#bd3786"
             ],
             [
              0.5555555555555556,
              "#d8576b"
             ],
             [
              0.6666666666666666,
              "#ed7953"
             ],
             [
              0.7777777777777778,
              "#fb9f3a"
             ],
             [
              0.8888888888888888,
              "#fdca26"
             ],
             [
              1,
              "#f0f921"
             ]
            ],
            "type": "histogram2dcontour"
           }
          ],
          "mesh3d": [
           {
            "colorbar": {
             "outlinewidth": 0,
             "ticks": ""
            },
            "type": "mesh3d"
           }
          ],
          "parcoords": [
           {
            "line": {
             "colorbar": {
              "outlinewidth": 0,
              "ticks": ""
             }
            },
            "type": "parcoords"
           }
          ],
          "pie": [
           {
            "automargin": true,
            "type": "pie"
           }
          ],
          "scatter": [
           {
            "fillpattern": {
             "fillmode": "overlay",
             "size": 10,
             "solidity": 0.2
            },
            "type": "scatter"
           }
          ],
          "scatter3d": [
           {
            "line": {
             "colorbar": {
              "outlinewidth": 0,
              "ticks": ""
             }
            },
            "marker": {
             "colorbar": {
              "outlinewidth": 0,
              "ticks": ""
             }
            },
            "type": "scatter3d"
           }
          ],
          "scattercarpet": [
           {
            "marker": {
             "colorbar": {
              "outlinewidth": 0,
              "ticks": ""
             }
            },
            "type": "scattercarpet"
           }
          ],
          "scattergeo": [
           {
            "marker": {
             "colorbar": {
              "outlinewidth": 0,
              "ticks": ""
             }
            },
            "type": "scattergeo"
           }
          ],
          "scattergl": [
           {
            "marker": {
             "colorbar": {
              "outlinewidth": 0,
              "ticks": ""
             }
            },
            "type": "scattergl"
           }
          ],
          "scattermap": [
           {
            "marker": {
             "colorbar": {
              "outlinewidth": 0,
              "ticks": ""
             }
            },
            "type": "scattermap"
           }
          ],
          "scattermapbox": [
           {
            "marker": {
             "colorbar": {
              "outlinewidth": 0,
              "ticks": ""
             }
            },
            "type": "scattermapbox"
           }
          ],
          "scatterpolar": [
           {
            "marker": {
             "colorbar": {
              "outlinewidth": 0,
              "ticks": ""
             }
            },
            "type": "scatterpolar"
           }
          ],
          "scatterpolargl": [
           {
            "marker": {
             "colorbar": {
              "outlinewidth": 0,
              "ticks": ""
             }
            },
            "type": "scatterpolargl"
           }
          ],
          "scatterternary": [
           {
            "marker": {
             "colorbar": {
              "outlinewidth": 0,
              "ticks": ""
             }
            },
            "type": "scatterternary"
           }
          ],
          "surface": [
           {
            "colorbar": {
             "outlinewidth": 0,
             "ticks": ""
            },
            "colorscale": [
             [
              0,
              "#0d0887"
             ],
             [
              0.1111111111111111,
              "#46039f"
             ],
             [
              0.2222222222222222,
              "#7201a8"
             ],
             [
              0.3333333333333333,
              "#9c179e"
             ],
             [
              0.4444444444444444,
              "#bd3786"
             ],
             [
              0.5555555555555556,
              "#d8576b"
             ],
             [
              0.6666666666666666,
              "#ed7953"
             ],
             [
              0.7777777777777778,
              "#fb9f3a"
             ],
             [
              0.8888888888888888,
              "#fdca26"
             ],
             [
              1,
              "#f0f921"
             ]
            ],
            "type": "surface"
           }
          ],
          "table": [
           {
            "cells": {
             "fill": {
              "color": "#EBF0F8"
             },
             "line": {
              "color": "white"
             }
            },
            "header": {
             "fill": {
              "color": "#C8D4E3"
             },
             "line": {
              "color": "white"
             }
            },
            "type": "table"
           }
          ]
         },
         "layout": {
          "annotationdefaults": {
           "arrowcolor": "#2a3f5f",
           "arrowhead": 0,
           "arrowwidth": 1
          },
          "autotypenumbers": "strict",
          "coloraxis": {
           "colorbar": {
            "outlinewidth": 0,
            "ticks": ""
           }
          },
          "colorscale": {
           "diverging": [
            [
             0,
             "#8e0152"
            ],
            [
             0.1,
             "#c51b7d"
            ],
            [
             0.2,
             "#de77ae"
            ],
            [
             0.3,
             "#f1b6da"
            ],
            [
             0.4,
             "#fde0ef"
            ],
            [
             0.5,
             "#f7f7f7"
            ],
            [
             0.6,
             "#e6f5d0"
            ],
            [
             0.7,
             "#b8e186"
            ],
            [
             0.8,
             "#7fbc41"
            ],
            [
             0.9,
             "#4d9221"
            ],
            [
             1,
             "#276419"
            ]
           ],
           "sequential": [
            [
             0,
             "#0d0887"
            ],
            [
             0.1111111111111111,
             "#46039f"
            ],
            [
             0.2222222222222222,
             "#7201a8"
            ],
            [
             0.3333333333333333,
             "#9c179e"
            ],
            [
             0.4444444444444444,
             "#bd3786"
            ],
            [
             0.5555555555555556,
             "#d8576b"
            ],
            [
             0.6666666666666666,
             "#ed7953"
            ],
            [
             0.7777777777777778,
             "#fb9f3a"
            ],
            [
             0.8888888888888888,
             "#fdca26"
            ],
            [
             1,
             "#f0f921"
            ]
           ],
           "sequentialminus": [
            [
             0,
             "#0d0887"
            ],
            [
             0.1111111111111111,
             "#46039f"
            ],
            [
             0.2222222222222222,
             "#7201a8"
            ],
            [
             0.3333333333333333,
             "#9c179e"
            ],
            [
             0.4444444444444444,
             "#bd3786"
            ],
            [
             0.5555555555555556,
             "#d8576b"
            ],
            [
             0.6666666666666666,
             "#ed7953"
            ],
            [
             0.7777777777777778,
             "#fb9f3a"
            ],
            [
             0.8888888888888888,
             "#fdca26"
            ],
            [
             1,
             "#f0f921"
            ]
           ]
          },
          "colorway": [
           "#636efa",
           "#EF553B",
           "#00cc96",
           "#ab63fa",
           "#FFA15A",
           "#19d3f3",
           "#FF6692",
           "#B6E880",
           "#FF97FF",
           "#FECB52"
          ],
          "font": {
           "color": "#2a3f5f"
          },
          "geo": {
           "bgcolor": "white",
           "lakecolor": "white",
           "landcolor": "#E5ECF6",
           "showlakes": true,
           "showland": true,
           "subunitcolor": "white"
          },
          "hoverlabel": {
           "align": "left"
          },
          "hovermode": "closest",
          "mapbox": {
           "style": "light"
          },
          "paper_bgcolor": "white",
          "plot_bgcolor": "#E5ECF6",
          "polar": {
           "angularaxis": {
            "gridcolor": "white",
            "linecolor": "white",
            "ticks": ""
           },
           "bgcolor": "#E5ECF6",
           "radialaxis": {
            "gridcolor": "white",
            "linecolor": "white",
            "ticks": ""
           }
          },
          "scene": {
           "xaxis": {
            "backgroundcolor": "#E5ECF6",
            "gridcolor": "white",
            "gridwidth": 2,
            "linecolor": "white",
            "showbackground": true,
            "ticks": "",
            "zerolinecolor": "white"
           },
           "yaxis": {
            "backgroundcolor": "#E5ECF6",
            "gridcolor": "white",
            "gridwidth": 2,
            "linecolor": "white",
            "showbackground": true,
            "ticks": "",
            "zerolinecolor": "white"
           },
           "zaxis": {
            "backgroundcolor": "#E5ECF6",
            "gridcolor": "white",
            "gridwidth": 2,
            "linecolor": "white",
            "showbackground": true,
            "ticks": "",
            "zerolinecolor": "white"
           }
          },
          "shapedefaults": {
           "line": {
            "color": "#2a3f5f"
           }
          },
          "ternary": {
           "aaxis": {
            "gridcolor": "white",
            "linecolor": "white",
            "ticks": ""
           },
           "baxis": {
            "gridcolor": "white",
            "linecolor": "white",
            "ticks": ""
           },
           "bgcolor": "#E5ECF6",
           "caxis": {
            "gridcolor": "white",
            "linecolor": "white",
            "ticks": ""
           }
          },
          "title": {
           "x": 0.05
          },
          "xaxis": {
           "automargin": true,
           "gridcolor": "white",
           "linecolor": "white",
           "ticks": "",
           "title": {
            "standoff": 15
           },
           "zerolinecolor": "white",
           "zerolinewidth": 2
          },
          "yaxis": {
           "automargin": true,
           "gridcolor": "white",
           "linecolor": "white",
           "ticks": "",
           "title": {
            "standoff": 15
           },
           "zerolinecolor": "white",
           "zerolinewidth": 2
          }
         }
        },
        "title": {
         "text": "Gradient Descent on Loss Surface"
        },
        "updatemenus": [
         {
          "buttons": [
           {
            "args": [
             null
            ],
            "label": "Play",
            "method": "animate"
           }
          ],
          "type": "buttons"
         }
        ],
        "width": 600
       }
      }
     },
     "metadata": {},
     "output_type": "display_data"
    }
   ],
   "source": [
    "import numpy as np\n",
    "import plotly.graph_objects as go\n",
    "\n",
    "# Generate dummy data\n",
    "np.random.seed(42)\n",
    "X = np.linspace(-3, 3, 100)\n",
    "Y = 2 * X + 0.5 * X**2 + 1 + np.random.randn(*X.shape) * 2\n",
    "\n",
    "# Initialize parameters\n",
    "w1, w2, bias = 0.0, 0.0, 0.0\n",
    "learning_rate = 0.05\n",
    "epochs = 50\n",
    "\n",
    "# Store history of parameters and loss\n",
    "history = []\n",
    "\n",
    "for epoch in range(epochs):\n",
    "    y_pred = w1 * X + w2 * X**2 + bias\n",
    "    loss = np.mean((Y - y_pred) ** 2)\n",
    "    history.append((w1, w2, loss))\n",
    "\n",
    "    dL_dw1 = np.mean(2 * (y_pred - Y) * X)\n",
    "    dL_dw2 = np.mean(2 * (y_pred - Y) * (X ** 2))\n",
    "    dL_dbias = np.mean(2 * (y_pred - Y))\n",
    "\n",
    "    w1 -= learning_rate * dL_dw1\n",
    "    w2 -= learning_rate * dL_dw2\n",
    "    bias -= learning_rate * dL_dbias\n",
    "\n",
    "# Create loss surface using a fixed bias for consistency\n",
    "bias_fixed = 0.0\n",
    "w1_vals = np.linspace(-3, 5, 60)\n",
    "w2_vals = np.linspace(-1, 2, 60)\n",
    "w1_grid, w2_grid = np.meshgrid(w1_vals, w2_vals)\n",
    "Loss_surface = np.zeros_like(w1_grid)\n",
    "\n",
    "for i in range(w1_grid.shape[0]):\n",
    "    for j in range(w1_grid.shape[1]):\n",
    "        y_pred = w1_grid[i, j] * X + w2_grid[i, j] * (X ** 2) + bias_fixed\n",
    "        Loss_surface[i, j] = np.mean((Y - y_pred) ** 2)\n",
    "\n",
    "# Create 3D surface\n",
    "surface = go.Surface(\n",
    "    x=w1_vals,\n",
    "    y=w2_vals,\n",
    "    z=Loss_surface,\n",
    "    colorscale='Viridis',\n",
    "    opacity=0.8,\n",
    "    showscale=False,\n",
    "    name='Loss Surface'\n",
    ")\n",
    "\n",
    "# Create animation frames\n",
    "frames = [\n",
    "    go.Frame(\n",
    "        data=[\n",
    "            go.Scatter3d(\n",
    "                x=[h[0]],\n",
    "                y=[h[1]],\n",
    "                z=[h[2]],\n",
    "                mode='markers',\n",
    "                marker=dict(color='red', size=6),\n",
    "                name='Step'\n",
    "            )\n",
    "        ],\n",
    "        name=str(i)\n",
    "    )\n",
    "    for i, h in enumerate(history)\n",
    "]\n",
    "\n",
    "# Layout\n",
    "layout = go.Layout(\n",
    "    title='Gradient Descent on Loss Surface',\n",
    "    scene=dict(\n",
    "        xaxis_title='w1',\n",
    "        yaxis_title='w2',\n",
    "        zaxis_title='Loss',\n",
    "    ),\n",
    "    width=600,\n",
    "    height=400,\n",
    "    updatemenus=[dict(\n",
    "        type='buttons',\n",
    "        buttons=[dict(label='Play', method='animate', args=[None])]\n",
    "    )]\n",
    ")\n",
    "\n",
    "# Plot\n",
    "fig = go.Figure(\n",
    "    data=[surface, go.Scatter3d(\n",
    "        x=[history[0][0]],\n",
    "        y=[history[0][1]],\n",
    "        z=[history[0][2]],\n",
    "        mode='markers',\n",
    "        marker=dict(color='red', size=6),\n",
    "        name='Start'\n",
    "    )],\n",
    "    layout=layout,\n",
    "    frames=frames\n",
    ")\n",
    "\n",
    "fig.show()\n"
   ]
  },
  {
   "cell_type": "code",
   "execution_count": null,
   "metadata": {},
   "outputs": [],
   "source": []
  }
 ],
 "metadata": {
  "kernelspec": {
   "display_name": "base",
   "language": "python",
   "name": "python3"
  },
  "language_info": {
   "codemirror_mode": {
    "name": "ipython",
    "version": 3
   },
   "file_extension": ".py",
   "mimetype": "text/x-python",
   "name": "python",
   "nbconvert_exporter": "python",
   "pygments_lexer": "ipython3",
   "version": "3.11.11"
  }
 },
 "nbformat": 4,
 "nbformat_minor": 2
}
